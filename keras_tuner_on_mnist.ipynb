{
  "cells": [
    {
      "cell_type": "markdown",
      "metadata": {
        "id": "view-in-github",
        "colab_type": "text"
      },
      "source": [
        "<a href=\"https://colab.research.google.com/github/m99Tanishq/tuner/blob/main/keras_tuner_on_mnist.ipynb\" target=\"_parent\"><img src=\"https://colab.research.google.com/assets/colab-badge.svg\" alt=\"Open In Colab\"/></a>"
      ]
    },
    {
      "cell_type": "markdown",
      "metadata": {
        "id": "qFdPvlXBOdUN"
      },
      "source": [
        "# Introduction to the Keras Tuner"
      ]
    },
    {
      "cell_type": "markdown",
      "metadata": {
        "id": "xHxb-dlhMIzW"
      },
      "source": [
        "## Overview\n",
        "\n",
        "The Keras Tuner is a library that helps you pick the optimal set of hyperparameters for your TensorFlow program. The process of selecting the right set of hyperparameters for your machine learning (ML) application is called *hyperparameter tuning* or *hypertuning*.\n",
        "\n",
        "Hyperparameters are the variables that govern the training process and the topology of an ML model. These variables remain constant over the training process and directly impact the performance of your ML program. Hyperparameters are of two types:\n",
        "1. **Model hyperparameters** which influence model selection such as the number and width of hidden layers\n",
        "2. **Algorithm hyperparameters** which influence the speed and quality of the learning algorithm such as the learning rate for Stochastic Gradient Descent (SGD) and the number of nearest neighbors for a k Nearest Neighbors (KNN) classifier\n",
        "\n",
        "In this tutorial, you will use the Keras Tuner to perform hypertuning for an image classification application."
      ]
    },
    {
      "cell_type": "markdown",
      "metadata": {
        "id": "MUXex9ctTuDB"
      },
      "source": [
        "## Setup"
      ]
    },
    {
      "cell_type": "code",
      "execution_count": null,
      "metadata": {
        "id": "IqR2PQG4ZaZ0"
      },
      "outputs": [],
      "source": [
        "import tensorflow as tf\n",
        "from tensorflow import keras"
      ]
    },
    {
      "cell_type": "markdown",
      "metadata": {
        "id": "g83Lwsy-Aq2_"
      },
      "source": [
        "Install and import the Keras Tuner."
      ]
    },
    {
      "cell_type": "code",
      "execution_count": null,
      "metadata": {
        "id": "hpMLpbt9jcO6",
        "outputId": "7624e9d6-700e-4953-d9c0-f8cb48057abf",
        "colab": {
          "base_uri": "https://localhost:8080/"
        }
      },
      "outputs": [
        {
          "output_type": "stream",
          "name": "stdout",
          "text": [
            "\u001b[2K     \u001b[90m━━━━━━━━━━━━━━━━━━━━━━━━━━━━━━━━━━━━━━━\u001b[0m \u001b[32m168.1/168.1 KB\u001b[0m \u001b[31m8.5 MB/s\u001b[0m eta \u001b[36m0:00:00\u001b[0m\n",
            "\u001b[2K     \u001b[90m━━━━━━━━━━━━━━━━━━━━━━━━━━━━━━━━━━━━━━━━\u001b[0m \u001b[32m1.6/1.6 MB\u001b[0m \u001b[31m53.2 MB/s\u001b[0m eta \u001b[36m0:00:00\u001b[0m\n",
            "\u001b[?25h"
          ]
        }
      ],
      "source": [
        "!pip install -q -U keras-tuner"
      ]
    },
    {
      "cell_type": "code",
      "execution_count": null,
      "metadata": {
        "id": "_leAIdFKAxAD"
      },
      "outputs": [],
      "source": [
        "import keras_tuner as kt"
      ]
    },
    {
      "cell_type": "markdown",
      "metadata": {
        "id": "HljH_ENLEdHa"
      },
      "source": [
        "Load the data."
      ]
    },
    {
      "cell_type": "code",
      "execution_count": null,
      "metadata": {
        "id": "OHlHs9Wj_PUM",
        "outputId": "62986b2e-71f0-4761-dbb9-476e50584140",
        "colab": {
          "base_uri": "https://localhost:8080/"
        }
      },
      "outputs": [
        {
          "output_type": "stream",
          "name": "stdout",
          "text": [
            "Downloading data from https://storage.googleapis.com/tensorflow/tf-keras-datasets/train-labels-idx1-ubyte.gz\n",
            "29515/29515 [==============================] - 0s 0us/step\n",
            "Downloading data from https://storage.googleapis.com/tensorflow/tf-keras-datasets/train-images-idx3-ubyte.gz\n",
            "26421880/26421880 [==============================] - 2s 0us/step\n",
            "Downloading data from https://storage.googleapis.com/tensorflow/tf-keras-datasets/t10k-labels-idx1-ubyte.gz\n",
            "5148/5148 [==============================] - 0s 0us/step\n",
            "Downloading data from https://storage.googleapis.com/tensorflow/tf-keras-datasets/t10k-images-idx3-ubyte.gz\n",
            "4422102/4422102 [==============================] - 0s 0us/step\n"
          ]
        }
      ],
      "source": [
        "(img_train, label_train), (img_test, label_test) = keras.datasets.fashion_mnist.load_data()"
      ]
    },
    {
      "cell_type": "code",
      "execution_count": null,
      "metadata": {
        "id": "bLVhXs3xrUD0"
      },
      "outputs": [],
      "source": [
        "# Normalize pixel values between 0 and 1\n",
        "img_train = img_train.astype('float32') / 255.0\n",
        "img_test = img_test.astype('float32') / 255.0"
      ]
    },
    {
      "cell_type": "code",
      "execution_count": null,
      "metadata": {
        "id": "ZQKodC-jtsva"
      },
      "outputs": [],
      "source": [
        "def model_builder(hp):\n",
        "  model = keras.Sequential()\n",
        "  model.add(keras.layers.Flatten(input_shape=(28, 28)))\n",
        "\n",
        "  # Tune the number of units in the first Dense layer\n",
        "  # Choose an optimal value between 32-512\n",
        "  hp_units = hp.Int('units', min_value=32, max_value=512, step=32)\n",
        "  model.add(keras.layers.Dense(units=hp_units, activation='relu'))\n",
        "  model.add(keras.layers.Dense(10))\n",
        "\n",
        "  # Tune the learning rate for the optimizer\n",
        "  # Choose an optimal value from 0.01, 0.001, or 0.0001\n",
        "  hp_learning_rate = hp.Choice('learning_rate', values=[1e-2, 1e-3, 1e-4])\n",
        "\n",
        "  model.compile(optimizer=keras.optimizers.Adam(learning_rate=hp_learning_rate),\n",
        "                loss=keras.losses.SparseCategoricalCrossentropy(from_logits=True),\n",
        "                metrics=['accuracy'])\n",
        "\n",
        "  return model"
      ]
    },
    {
      "cell_type": "markdown",
      "metadata": {
        "id": "0J1VYw4q3x0b"
      },
      "source": [
        "## Instantiate the tuner and perform hypertuning\n",
        "\n",
        "Instantiate the tuner to perform the hypertuning. The Keras Tuner has four tuners available - `RandomSearch`, `Hyperband`, `BayesianOptimization`, and `Sklearn`. In this tutorial, you use the [Hyperband](https://arxiv.org/pdf/1603.06560.pdf) tuner.\n",
        "\n",
        "To instantiate the Hyperband tuner, you must specify the hypermodel, the `objective` to optimize and the maximum number of epochs to train (`max_epochs`)."
      ]
    },
    {
      "cell_type": "code",
      "execution_count": null,
      "metadata": {
        "id": "oichQFly6Y46"
      },
      "outputs": [],
      "source": [
        "tuner = kt.Hyperband(model_builder,\n",
        "                     objective='val_accuracy',\n",
        "                     max_epochs=10,\n",
        "                     factor=3,\n",
        "                     directory='my_dir',\n",
        "                     project_name='intro_to_kt')"
      ]
    },
    {
      "cell_type": "markdown",
      "metadata": {
        "id": "cwhBdXx0Ekj8"
      },
      "source": [
        "Creating a callback to stop training early after reaching a certain value for the validation loss."
      ]
    },
    {
      "cell_type": "code",
      "execution_count": null,
      "metadata": {
        "id": "WT9IkS9NEjLc"
      },
      "outputs": [],
      "source": [
        "stop_early = tf.keras.callbacks.EarlyStopping(monitor='val_loss', patience=5)"
      ]
    },
    {
      "cell_type": "markdown",
      "metadata": {
        "id": "UKghEo15Tduy"
      },
      "source": [
        "Run the hyperparameter search. The arguments for the search method are the same as those used for `tf.keras.model.fit` in addition to the callback above."
      ]
    },
    {
      "cell_type": "code",
      "execution_count": null,
      "metadata": {
        "id": "dSBQcTHF9cKt",
        "outputId": "dea89d3f-09f5-4e0c-f65f-2b8cac62de12",
        "colab": {
          "base_uri": "https://localhost:8080/"
        }
      },
      "outputs": [
        {
          "output_type": "stream",
          "name": "stdout",
          "text": [
            "Trial 30 Complete [00h 01m 22s]\n",
            "val_accuracy: 0.874916672706604\n",
            "\n",
            "Best val_accuracy So Far: 0.8944166898727417\n",
            "Total elapsed time: 00h 12m 20s\n",
            "\n",
            "The hyperparameter search is complete. The optimal number of units in the first densely-connected\n",
            "layer is 256 and the optimal learning rate for the optimizer\n",
            "is 0.001.\n",
            "\n"
          ]
        }
      ],
      "source": [
        "tuner.search(img_train, label_train, epochs=50, validation_split=0.2, callbacks=[stop_early])\n",
        "\n",
        "# Get the optimal hyperparameters\n",
        "best_hps=tuner.get_best_hyperparameters(num_trials=1)[0]\n",
        "\n",
        "print(f\"\"\"\n",
        "The hyperparameter search is complete. The optimal number of units in the first densely-connected\n",
        "layer is {best_hps.get('units')} and the optimal learning rate for the optimizer\n",
        "is {best_hps.get('learning_rate')}.\n",
        "\"\"\")"
      ]
    },
    {
      "cell_type": "markdown",
      "metadata": {
        "id": "Lak_ylf88xBv"
      },
      "source": [
        "## Train the model\n",
        "\n",
        "Find the optimal number of epochs to train the model with the hyperparameters obtained from the search."
      ]
    },
    {
      "cell_type": "code",
      "execution_count": null,
      "metadata": {
        "id": "McO82AXOuxXh",
        "outputId": "f59fac8b-7eb1-45a9-eb61-293f18481995",
        "colab": {
          "base_uri": "https://localhost:8080/"
        }
      },
      "outputs": [
        {
          "output_type": "stream",
          "name": "stdout",
          "text": [
            "Epoch 1/50\n",
            "1500/1500 [==============================] - 5s 3ms/step - loss: 0.4975 - accuracy: 0.8238 - val_loss: 0.4012 - val_accuracy: 0.8539\n",
            "Epoch 2/50\n",
            "1500/1500 [==============================] - 4s 3ms/step - loss: 0.3743 - accuracy: 0.8641 - val_loss: 0.3908 - val_accuracy: 0.8623\n",
            "Epoch 3/50\n",
            "1500/1500 [==============================] - 5s 3ms/step - loss: 0.3363 - accuracy: 0.8777 - val_loss: 0.3669 - val_accuracy: 0.8653\n",
            "Epoch 4/50\n",
            "1500/1500 [==============================] - 5s 3ms/step - loss: 0.3104 - accuracy: 0.8867 - val_loss: 0.3443 - val_accuracy: 0.8749\n",
            "Epoch 5/50\n",
            "1500/1500 [==============================] - 4s 3ms/step - loss: 0.2890 - accuracy: 0.8928 - val_loss: 0.3200 - val_accuracy: 0.8860\n",
            "Epoch 6/50\n",
            "1500/1500 [==============================] - 4s 3ms/step - loss: 0.2755 - accuracy: 0.8973 - val_loss: 0.3272 - val_accuracy: 0.8819\n",
            "Epoch 7/50\n",
            "1500/1500 [==============================] - 4s 3ms/step - loss: 0.2621 - accuracy: 0.9027 - val_loss: 0.3126 - val_accuracy: 0.8906\n",
            "Epoch 8/50\n",
            "1500/1500 [==============================] - 4s 3ms/step - loss: 0.2469 - accuracy: 0.9079 - val_loss: 0.3309 - val_accuracy: 0.8814\n",
            "Epoch 9/50\n",
            "1500/1500 [==============================] - 4s 3ms/step - loss: 0.2374 - accuracy: 0.9105 - val_loss: 0.3180 - val_accuracy: 0.8904\n",
            "Epoch 10/50\n",
            "1500/1500 [==============================] - 4s 3ms/step - loss: 0.2273 - accuracy: 0.9147 - val_loss: 0.3445 - val_accuracy: 0.8813\n",
            "Epoch 11/50\n",
            "1500/1500 [==============================] - 4s 3ms/step - loss: 0.2188 - accuracy: 0.9177 - val_loss: 0.3485 - val_accuracy: 0.8821\n",
            "Epoch 12/50\n",
            "1500/1500 [==============================] - 4s 3ms/step - loss: 0.2100 - accuracy: 0.9202 - val_loss: 0.3304 - val_accuracy: 0.8886\n",
            "Epoch 13/50\n",
            "1500/1500 [==============================] - 4s 3ms/step - loss: 0.2030 - accuracy: 0.9248 - val_loss: 0.3295 - val_accuracy: 0.8874\n",
            "Epoch 14/50\n",
            "1500/1500 [==============================] - 4s 3ms/step - loss: 0.1973 - accuracy: 0.9266 - val_loss: 0.3339 - val_accuracy: 0.8875\n",
            "Epoch 15/50\n",
            "1500/1500 [==============================] - 4s 3ms/step - loss: 0.1880 - accuracy: 0.9292 - val_loss: 0.3202 - val_accuracy: 0.8931\n",
            "Epoch 16/50\n",
            "1500/1500 [==============================] - 4s 3ms/step - loss: 0.1826 - accuracy: 0.9311 - val_loss: 0.3360 - val_accuracy: 0.8902\n",
            "Epoch 17/50\n",
            "1500/1500 [==============================] - 4s 3ms/step - loss: 0.1783 - accuracy: 0.9328 - val_loss: 0.3411 - val_accuracy: 0.8925\n",
            "Epoch 18/50\n",
            "1500/1500 [==============================] - 4s 3ms/step - loss: 0.1704 - accuracy: 0.9360 - val_loss: 0.3808 - val_accuracy: 0.8829\n",
            "Epoch 19/50\n",
            "1500/1500 [==============================] - 4s 3ms/step - loss: 0.1664 - accuracy: 0.9387 - val_loss: 0.3480 - val_accuracy: 0.8916\n",
            "Epoch 20/50\n",
            "1500/1500 [==============================] - 4s 3ms/step - loss: 0.1611 - accuracy: 0.9401 - val_loss: 0.3694 - val_accuracy: 0.8880\n",
            "Epoch 21/50\n",
            "1500/1500 [==============================] - 4s 3ms/step - loss: 0.1577 - accuracy: 0.9414 - val_loss: 0.3669 - val_accuracy: 0.8921\n",
            "Epoch 22/50\n",
            "1500/1500 [==============================] - 4s 3ms/step - loss: 0.1511 - accuracy: 0.9432 - val_loss: 0.3580 - val_accuracy: 0.8930\n",
            "Epoch 23/50\n",
            "1500/1500 [==============================] - 4s 3ms/step - loss: 0.1479 - accuracy: 0.9444 - val_loss: 0.3854 - val_accuracy: 0.8884\n",
            "Epoch 24/50\n",
            "1500/1500 [==============================] - 4s 3ms/step - loss: 0.1446 - accuracy: 0.9454 - val_loss: 0.3650 - val_accuracy: 0.8949\n",
            "Epoch 25/50\n",
            "1500/1500 [==============================] - 4s 3ms/step - loss: 0.1396 - accuracy: 0.9475 - val_loss: 0.3802 - val_accuracy: 0.8912\n",
            "Epoch 26/50\n",
            "1500/1500 [==============================] - 4s 3ms/step - loss: 0.1347 - accuracy: 0.9495 - val_loss: 0.3814 - val_accuracy: 0.8938\n",
            "Epoch 27/50\n",
            "1500/1500 [==============================] - 4s 3ms/step - loss: 0.1326 - accuracy: 0.9494 - val_loss: 0.4100 - val_accuracy: 0.8888\n",
            "Epoch 28/50\n",
            "1500/1500 [==============================] - 4s 3ms/step - loss: 0.1267 - accuracy: 0.9515 - val_loss: 0.3955 - val_accuracy: 0.8913\n",
            "Epoch 29/50\n",
            "1500/1500 [==============================] - 4s 3ms/step - loss: 0.1257 - accuracy: 0.9526 - val_loss: 0.4138 - val_accuracy: 0.8925\n",
            "Epoch 30/50\n",
            "1500/1500 [==============================] - 4s 3ms/step - loss: 0.1240 - accuracy: 0.9532 - val_loss: 0.4112 - val_accuracy: 0.8942\n",
            "Epoch 31/50\n",
            "1500/1500 [==============================] - 4s 3ms/step - loss: 0.1189 - accuracy: 0.9552 - val_loss: 0.4124 - val_accuracy: 0.8898\n",
            "Epoch 32/50\n",
            "1500/1500 [==============================] - 4s 3ms/step - loss: 0.1174 - accuracy: 0.9553 - val_loss: 0.3999 - val_accuracy: 0.8948\n",
            "Epoch 33/50\n",
            "1500/1500 [==============================] - 4s 3ms/step - loss: 0.1128 - accuracy: 0.9573 - val_loss: 0.4215 - val_accuracy: 0.8925\n",
            "Epoch 34/50\n",
            "1500/1500 [==============================] - 4s 3ms/step - loss: 0.1113 - accuracy: 0.9578 - val_loss: 0.4262 - val_accuracy: 0.8928\n",
            "Epoch 35/50\n",
            "1500/1500 [==============================] - 4s 3ms/step - loss: 0.1116 - accuracy: 0.9586 - val_loss: 0.4504 - val_accuracy: 0.8886\n",
            "Epoch 36/50\n",
            "1500/1500 [==============================] - 4s 3ms/step - loss: 0.1058 - accuracy: 0.9588 - val_loss: 0.4391 - val_accuracy: 0.8928\n",
            "Epoch 37/50\n",
            "1500/1500 [==============================] - 4s 3ms/step - loss: 0.0997 - accuracy: 0.9622 - val_loss: 0.4327 - val_accuracy: 0.8943\n",
            "Epoch 38/50\n",
            "1500/1500 [==============================] - 4s 3ms/step - loss: 0.0993 - accuracy: 0.9627 - val_loss: 0.4278 - val_accuracy: 0.8928\n",
            "Epoch 39/50\n",
            "1500/1500 [==============================] - 4s 3ms/step - loss: 0.0978 - accuracy: 0.9626 - val_loss: 0.4249 - val_accuracy: 0.8970\n",
            "Epoch 40/50\n",
            "1500/1500 [==============================] - 4s 3ms/step - loss: 0.0979 - accuracy: 0.9626 - val_loss: 0.4563 - val_accuracy: 0.8893\n",
            "Epoch 41/50\n",
            "1500/1500 [==============================] - 4s 3ms/step - loss: 0.0934 - accuracy: 0.9647 - val_loss: 0.4607 - val_accuracy: 0.8933\n",
            "Epoch 42/50\n",
            "1500/1500 [==============================] - 4s 3ms/step - loss: 0.0923 - accuracy: 0.9646 - val_loss: 0.4967 - val_accuracy: 0.8909\n",
            "Epoch 43/50\n",
            "1500/1500 [==============================] - 4s 3ms/step - loss: 0.0879 - accuracy: 0.9667 - val_loss: 0.4861 - val_accuracy: 0.8948\n",
            "Epoch 44/50\n",
            "1500/1500 [==============================] - 4s 3ms/step - loss: 0.0920 - accuracy: 0.9657 - val_loss: 0.4623 - val_accuracy: 0.8960\n",
            "Epoch 45/50\n",
            "1500/1500 [==============================] - 4s 3ms/step - loss: 0.0876 - accuracy: 0.9665 - val_loss: 0.4815 - val_accuracy: 0.8933\n",
            "Epoch 46/50\n",
            "1500/1500 [==============================] - 4s 3ms/step - loss: 0.0825 - accuracy: 0.9681 - val_loss: 0.4929 - val_accuracy: 0.8943\n",
            "Epoch 47/50\n",
            "1500/1500 [==============================] - 4s 3ms/step - loss: 0.0857 - accuracy: 0.9681 - val_loss: 0.4842 - val_accuracy: 0.8943\n",
            "Epoch 48/50\n",
            "1500/1500 [==============================] - 4s 3ms/step - loss: 0.0796 - accuracy: 0.9706 - val_loss: 0.5090 - val_accuracy: 0.8934\n",
            "Epoch 49/50\n",
            "1500/1500 [==============================] - 4s 3ms/step - loss: 0.0816 - accuracy: 0.9690 - val_loss: 0.5391 - val_accuracy: 0.8922\n",
            "Epoch 50/50\n",
            "1500/1500 [==============================] - 4s 3ms/step - loss: 0.0760 - accuracy: 0.9712 - val_loss: 0.5079 - val_accuracy: 0.8941\n",
            "Best epoch: 39\n"
          ]
        }
      ],
      "source": [
        "# Build the model with the optimal hyperparameters and train it on the data for 50 epochs\n",
        "model = tuner.hypermodel.build(best_hps)\n",
        "history = model.fit(img_train, label_train, epochs=50, validation_split=0.2)\n",
        "\n",
        "val_acc_per_epoch = history.history['val_accuracy']\n",
        "best_epoch = val_acc_per_epoch.index(max(val_acc_per_epoch)) + 1\n",
        "print('Best epoch: %d' % (best_epoch,))"
      ]
    },
    {
      "cell_type": "markdown",
      "metadata": {
        "id": "uOTSirSTI3Gp"
      },
      "source": [
        "Re-instantiate the hypermodel and train it with the optimal number of epochs from above."
      ]
    },
    {
      "cell_type": "code",
      "execution_count": null,
      "metadata": {
        "id": "NoiPUEHmMhCe",
        "outputId": "e25f0e05-641b-4097-c3fa-25c11ec56889",
        "colab": {
          "base_uri": "https://localhost:8080/"
        }
      },
      "outputs": [
        {
          "output_type": "stream",
          "name": "stdout",
          "text": [
            "Epoch 1/39\n",
            "1500/1500 [==============================] - 4s 3ms/step - loss: 0.5064 - accuracy: 0.8210 - val_loss: 0.4136 - val_accuracy: 0.8503\n",
            "Epoch 2/39\n",
            "1500/1500 [==============================] - 4s 3ms/step - loss: 0.3767 - accuracy: 0.8635 - val_loss: 0.3786 - val_accuracy: 0.8639\n",
            "Epoch 3/39\n",
            "1500/1500 [==============================] - 4s 3ms/step - loss: 0.3383 - accuracy: 0.8752 - val_loss: 0.3342 - val_accuracy: 0.8806\n",
            "Epoch 4/39\n",
            "1500/1500 [==============================] - 5s 3ms/step - loss: 0.3121 - accuracy: 0.8847 - val_loss: 0.3497 - val_accuracy: 0.8757\n",
            "Epoch 5/39\n",
            "1500/1500 [==============================] - 4s 3ms/step - loss: 0.2940 - accuracy: 0.8921 - val_loss: 0.3228 - val_accuracy: 0.8842\n",
            "Epoch 6/39\n",
            "1500/1500 [==============================] - 4s 3ms/step - loss: 0.2782 - accuracy: 0.8956 - val_loss: 0.3246 - val_accuracy: 0.8832\n",
            "Epoch 7/39\n",
            "1500/1500 [==============================] - 4s 3ms/step - loss: 0.2647 - accuracy: 0.8996 - val_loss: 0.3369 - val_accuracy: 0.8818\n",
            "Epoch 8/39\n",
            "1500/1500 [==============================] - 4s 3ms/step - loss: 0.2526 - accuracy: 0.9055 - val_loss: 0.3149 - val_accuracy: 0.8892\n",
            "Epoch 9/39\n",
            "1500/1500 [==============================] - 4s 3ms/step - loss: 0.2418 - accuracy: 0.9091 - val_loss: 0.3437 - val_accuracy: 0.8787\n",
            "Epoch 10/39\n",
            "1500/1500 [==============================] - 4s 3ms/step - loss: 0.2308 - accuracy: 0.9132 - val_loss: 0.3159 - val_accuracy: 0.8886\n",
            "Epoch 11/39\n",
            "1500/1500 [==============================] - 4s 3ms/step - loss: 0.2222 - accuracy: 0.9165 - val_loss: 0.3081 - val_accuracy: 0.8914\n",
            "Epoch 12/39\n",
            "1500/1500 [==============================] - 5s 3ms/step - loss: 0.2135 - accuracy: 0.9204 - val_loss: 0.3194 - val_accuracy: 0.8903\n",
            "Epoch 13/39\n",
            "1500/1500 [==============================] - 6s 4ms/step - loss: 0.2074 - accuracy: 0.9209 - val_loss: 0.3506 - val_accuracy: 0.8812\n",
            "Epoch 14/39\n",
            "1500/1500 [==============================] - 4s 3ms/step - loss: 0.2000 - accuracy: 0.9245 - val_loss: 0.3438 - val_accuracy: 0.8837\n",
            "Epoch 15/39\n",
            "1500/1500 [==============================] - 4s 3ms/step - loss: 0.1929 - accuracy: 0.9283 - val_loss: 0.3527 - val_accuracy: 0.8849\n",
            "Epoch 16/39\n",
            "1500/1500 [==============================] - 4s 3ms/step - loss: 0.1870 - accuracy: 0.9302 - val_loss: 0.3318 - val_accuracy: 0.8917\n",
            "Epoch 17/39\n",
            "1500/1500 [==============================] - 4s 3ms/step - loss: 0.1772 - accuracy: 0.9334 - val_loss: 0.3317 - val_accuracy: 0.8934\n",
            "Epoch 18/39\n",
            "1500/1500 [==============================] - 4s 3ms/step - loss: 0.1722 - accuracy: 0.9352 - val_loss: 0.3442 - val_accuracy: 0.8927\n",
            "Epoch 19/39\n",
            "1500/1500 [==============================] - 4s 3ms/step - loss: 0.1674 - accuracy: 0.9362 - val_loss: 0.3741 - val_accuracy: 0.8852\n",
            "Epoch 20/39\n",
            "1500/1500 [==============================] - 4s 3ms/step - loss: 0.1616 - accuracy: 0.9394 - val_loss: 0.3584 - val_accuracy: 0.8878\n",
            "Epoch 21/39\n",
            "1500/1500 [==============================] - 4s 3ms/step - loss: 0.1587 - accuracy: 0.9396 - val_loss: 0.3586 - val_accuracy: 0.8915\n",
            "Epoch 22/39\n",
            "1500/1500 [==============================] - 4s 3ms/step - loss: 0.1508 - accuracy: 0.9430 - val_loss: 0.3463 - val_accuracy: 0.8938\n",
            "Epoch 23/39\n",
            "1500/1500 [==============================] - 4s 3ms/step - loss: 0.1465 - accuracy: 0.9454 - val_loss: 0.3744 - val_accuracy: 0.8901\n",
            "Epoch 24/39\n",
            "1500/1500 [==============================] - 4s 3ms/step - loss: 0.1432 - accuracy: 0.9462 - val_loss: 0.3729 - val_accuracy: 0.8930\n",
            "Epoch 25/39\n",
            "1500/1500 [==============================] - 4s 3ms/step - loss: 0.1397 - accuracy: 0.9477 - val_loss: 0.3827 - val_accuracy: 0.8870\n",
            "Epoch 26/39\n",
            "1500/1500 [==============================] - 4s 3ms/step - loss: 0.1371 - accuracy: 0.9477 - val_loss: 0.4145 - val_accuracy: 0.8850\n",
            "Epoch 27/39\n",
            "1500/1500 [==============================] - 4s 3ms/step - loss: 0.1331 - accuracy: 0.9503 - val_loss: 0.3723 - val_accuracy: 0.8911\n",
            "Epoch 28/39\n",
            "1500/1500 [==============================] - 4s 3ms/step - loss: 0.1297 - accuracy: 0.9505 - val_loss: 0.3871 - val_accuracy: 0.8918\n",
            "Epoch 29/39\n",
            "1500/1500 [==============================] - 4s 3ms/step - loss: 0.1249 - accuracy: 0.9537 - val_loss: 0.3754 - val_accuracy: 0.8957\n",
            "Epoch 30/39\n",
            "1500/1500 [==============================] - 4s 3ms/step - loss: 0.1211 - accuracy: 0.9533 - val_loss: 0.3872 - val_accuracy: 0.8897\n",
            "Epoch 31/39\n",
            "1500/1500 [==============================] - 4s 3ms/step - loss: 0.1202 - accuracy: 0.9553 - val_loss: 0.3961 - val_accuracy: 0.8928\n",
            "Epoch 32/39\n",
            "1500/1500 [==============================] - 4s 3ms/step - loss: 0.1174 - accuracy: 0.9558 - val_loss: 0.4295 - val_accuracy: 0.8888\n",
            "Epoch 33/39\n",
            "1500/1500 [==============================] - 4s 3ms/step - loss: 0.1150 - accuracy: 0.9568 - val_loss: 0.4191 - val_accuracy: 0.8895\n",
            "Epoch 34/39\n",
            "1500/1500 [==============================] - 4s 3ms/step - loss: 0.1134 - accuracy: 0.9570 - val_loss: 0.4104 - val_accuracy: 0.8931\n",
            "Epoch 35/39\n",
            "1500/1500 [==============================] - 4s 3ms/step - loss: 0.1065 - accuracy: 0.9607 - val_loss: 0.4254 - val_accuracy: 0.8903\n",
            "Epoch 36/39\n",
            "1500/1500 [==============================] - 4s 3ms/step - loss: 0.1051 - accuracy: 0.9596 - val_loss: 0.4321 - val_accuracy: 0.8906\n",
            "Epoch 37/39\n",
            "1500/1500 [==============================] - 4s 3ms/step - loss: 0.1048 - accuracy: 0.9609 - val_loss: 0.4404 - val_accuracy: 0.8928\n",
            "Epoch 38/39\n",
            "1500/1500 [==============================] - 4s 3ms/step - loss: 0.1042 - accuracy: 0.9596 - val_loss: 0.4713 - val_accuracy: 0.8832\n",
            "Epoch 39/39\n",
            "1500/1500 [==============================] - 4s 3ms/step - loss: 0.0985 - accuracy: 0.9636 - val_loss: 0.4555 - val_accuracy: 0.8871\n"
          ]
        },
        {
          "output_type": "execute_result",
          "data": {
            "text/plain": [
              "<keras.callbacks.History at 0x7f20aa06eca0>"
            ]
          },
          "metadata": {},
          "execution_count": 11
        }
      ],
      "source": [
        "hypermodel = tuner.hypermodel.build(best_hps)\n",
        "\n",
        "# Retrain the model\n",
        "hypermodel.fit(img_train, label_train, epochs=best_epoch, validation_split=0.2)"
      ]
    },
    {
      "cell_type": "markdown",
      "metadata": {
        "id": "MqU5ZVAaag2v"
      },
      "source": [
        "Evaluating the hypermodel on the test data."
      ]
    },
    {
      "cell_type": "code",
      "execution_count": null,
      "metadata": {
        "id": "9E0BTp9Ealjb",
        "outputId": "1a0bb566-c0d6-4155-f895-2da6318b5ba5",
        "colab": {
          "base_uri": "https://localhost:8080/"
        }
      },
      "outputs": [
        {
          "output_type": "stream",
          "name": "stdout",
          "text": [
            "313/313 [==============================] - 1s 2ms/step - loss: 0.5176 - accuracy: 0.8794\n",
            "[test loss, test accuracy]: [0.5175815224647522, 0.8794000148773193]\n"
          ]
        }
      ],
      "source": [
        "eval_result = hypermodel.evaluate(img_test, label_test)\n",
        "print(\"[test loss, test accuracy]:\", eval_result)"
      ]
    }
  ],
  "metadata": {
    "accelerator": "GPU",
    "colab": {
      "collapsed_sections": [
        "Tce3stUlHN0L"
      ],
      "provenance": [],
      "include_colab_link": true
    },
    "kernelspec": {
      "display_name": "Python 3",
      "name": "python3"
    },
    "gpuClass": "standard"
  },
  "nbformat": 4,
  "nbformat_minor": 0
}